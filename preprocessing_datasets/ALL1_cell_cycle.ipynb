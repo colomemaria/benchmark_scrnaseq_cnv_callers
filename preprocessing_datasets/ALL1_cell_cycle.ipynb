{
 "cells": [
  {
   "cell_type": "markdown",
   "id": "9171c50a-8ced-4a26-8179-97d459440905",
   "metadata": {},
   "source": [
    "### Check that the subclone annotation is not associated with cell cycle for ALL1"
   ]
  },
  {
   "cell_type": "code",
   "execution_count": null,
   "id": "b8fff9f1-c2be-40f3-8e89-e82305d06cd7",
   "metadata": {
    "tags": []
   },
   "outputs": [],
   "source": [
    "import scanpy as sc\n",
    "import pandas as pd"
   ]
  },
  {
   "cell_type": "code",
   "execution_count": 3,
   "id": "10e3f40c-d12e-4902-88f0-bcabb6174e21",
   "metadata": {
    "tags": []
   },
   "outputs": [],
   "source": [
    "#Read clonal annotation\n",
    "clones=pd.read_csv(\"ALL1-clones_final.txt\",sep=\"\\t\")\n",
    "\n",
    "#Reformat DNA index to match RNA index\n",
    "clones['rna_index'] = clones['dna_library_id'].str.replace(\"D\", \"R\", regex=False)\n",
    "clones['rna_index'] = clones['rna_index'].str.replace(\"_\", \"-\", regex=False)"
   ]
  },
  {
   "cell_type": "code",
   "execution_count": 4,
   "id": "db3dbbb4-ec17-41c1-8886-b5f99258e757",
   "metadata": {
    "tags": []
   },
   "outputs": [
    {
     "data": {
      "text/html": [
       "<div>\n",
       "<style scoped>\n",
       "    .dataframe tbody tr th:only-of-type {\n",
       "        vertical-align: middle;\n",
       "    }\n",
       "\n",
       "    .dataframe tbody tr th {\n",
       "        vertical-align: top;\n",
       "    }\n",
       "\n",
       "    .dataframe thead th {\n",
       "        text-align: right;\n",
       "    }\n",
       "</style>\n",
       "<table border=\"1\" class=\"dataframe\">\n",
       "  <thead>\n",
       "    <tr style=\"text-align: right;\">\n",
       "      <th></th>\n",
       "      <th>dna_library_id</th>\n",
       "      <th>clone</th>\n",
       "      <th>dna_reads</th>\n",
       "      <th>rna_counts</th>\n",
       "      <th>rna_phase</th>\n",
       "      <th>timepoint</th>\n",
       "      <th>rna_index</th>\n",
       "    </tr>\n",
       "  </thead>\n",
       "  <tbody>\n",
       "    <tr>\n",
       "      <th>0</th>\n",
       "      <td>VZA01001D_A01</td>\n",
       "      <td>3_1</td>\n",
       "      <td>1185959</td>\n",
       "      <td>192050</td>\n",
       "      <td>G1</td>\n",
       "      <td>diagnosis</td>\n",
       "      <td>VZA01001R-A01</td>\n",
       "    </tr>\n",
       "    <tr>\n",
       "      <th>1</th>\n",
       "      <td>VZA01001D_A02</td>\n",
       "      <td>3_1</td>\n",
       "      <td>875737</td>\n",
       "      <td>137332</td>\n",
       "      <td>G1</td>\n",
       "      <td>diagnosis</td>\n",
       "      <td>VZA01001R-A02</td>\n",
       "    </tr>\n",
       "    <tr>\n",
       "      <th>2</th>\n",
       "      <td>VZA01001D_A03</td>\n",
       "      <td>3_1</td>\n",
       "      <td>864706</td>\n",
       "      <td>177335</td>\n",
       "      <td>G1</td>\n",
       "      <td>diagnosis</td>\n",
       "      <td>VZA01001R-A03</td>\n",
       "    </tr>\n",
       "    <tr>\n",
       "      <th>3</th>\n",
       "      <td>VZA01001D_A04</td>\n",
       "      <td>3_1</td>\n",
       "      <td>828150</td>\n",
       "      <td>306029</td>\n",
       "      <td>G1</td>\n",
       "      <td>diagnosis</td>\n",
       "      <td>VZA01001R-A04</td>\n",
       "    </tr>\n",
       "    <tr>\n",
       "      <th>4</th>\n",
       "      <td>VZA01001D_A05</td>\n",
       "      <td>NaN</td>\n",
       "      <td>20650</td>\n",
       "      <td>270</td>\n",
       "      <td>NaN</td>\n",
       "      <td>diagnosis</td>\n",
       "      <td>VZA01001R-A05</td>\n",
       "    </tr>\n",
       "  </tbody>\n",
       "</table>\n",
       "</div>"
      ],
      "text/plain": [
       "  dna_library_id clone  dna_reads  rna_counts rna_phase  timepoint  \\\n",
       "0  VZA01001D_A01   3_1    1185959      192050        G1  diagnosis   \n",
       "1  VZA01001D_A02   3_1     875737      137332        G1  diagnosis   \n",
       "2  VZA01001D_A03   3_1     864706      177335        G1  diagnosis   \n",
       "3  VZA01001D_A04   3_1     828150      306029        G1  diagnosis   \n",
       "4  VZA01001D_A05   NaN      20650         270       NaN  diagnosis   \n",
       "\n",
       "       rna_index  \n",
       "0  VZA01001R-A01  \n",
       "1  VZA01001R-A02  \n",
       "2  VZA01001R-A03  \n",
       "3  VZA01001R-A04  \n",
       "4  VZA01001R-A05  "
      ]
     },
     "execution_count": 4,
     "metadata": {},
     "output_type": "execute_result"
    }
   ],
   "source": [
    "clones.head()"
   ]
  },
  {
   "cell_type": "code",
   "execution_count": 5,
   "id": "be6a16f5-8439-4b62-ae71-c6f90b4bdc6f",
   "metadata": {
    "tags": []
   },
   "outputs": [],
   "source": [
    "#Read RNA matrix\n",
    "adata = sc.read_csv(\"input_ALL1/count_matrix.txt\", delimiter='\\t').T"
   ]
  },
  {
   "cell_type": "code",
   "execution_count": 6,
   "id": "fac7a9c0-f11c-4c13-81d8-52e0f46547c5",
   "metadata": {
    "tags": []
   },
   "outputs": [
    {
     "data": {
      "text/plain": [
       "AnnData object with n_obs × n_vars = 262 × 20835"
      ]
     },
     "execution_count": 6,
     "metadata": {},
     "output_type": "execute_result"
    }
   ],
   "source": [
    "adata"
   ]
  },
  {
   "cell_type": "code",
   "execution_count": 7,
   "id": "7cf6fe4c-70a6-4e1a-9022-fd26902fc00f",
   "metadata": {
    "tags": []
   },
   "outputs": [],
   "source": [
    "#Basic preprocessing\n",
    "sc.pp.filter_cells(adata, min_genes=200)\n",
    "sc.pp.filter_genes(adata, min_cells=3)\n",
    "sc.pp.normalize_per_cell(adata, counts_per_cell_after=1e4)"
   ]
  },
  {
   "cell_type": "code",
   "execution_count": 8,
   "id": "81b82e08-6f2a-462f-92e7-6a86c3694af5",
   "metadata": {
    "tags": []
   },
   "outputs": [],
   "source": [
    "sc.pp.log1p(adata)\n",
    "sc.pp.scale(adata)"
   ]
  },
  {
   "cell_type": "code",
   "execution_count": 9,
   "id": "b431dc02-86ff-4b69-849f-d9b9238169e3",
   "metadata": {
    "tags": []
   },
   "outputs": [
    {
     "data": {
      "text/plain": [
       "AnnData object with n_obs × n_vars = 262 × 15338\n",
       "    obs: 'n_genes', 'n_counts'\n",
       "    var: 'n_cells', 'mean', 'std'\n",
       "    uns: 'log1p'"
      ]
     },
     "execution_count": 9,
     "metadata": {},
     "output_type": "execute_result"
    }
   ],
   "source": [
    "adata"
   ]
  },
  {
   "cell_type": "code",
   "execution_count": 10,
   "id": "28d60972-41e7-417d-9a2f-e16a1e86742b",
   "metadata": {
    "tags": []
   },
   "outputs": [],
   "source": [
    "#Load cell cycle genes\n",
    "cell_cycle_genes = [x.strip() for x in open(\"../annotations/regev_lab_cell_cycle_genes.txt\")]"
   ]
  },
  {
   "cell_type": "code",
   "execution_count": 11,
   "id": "1b2121a8-7966-47dd-a0cb-1bd2f32be3eb",
   "metadata": {
    "tags": []
   },
   "outputs": [],
   "source": [
    "s_genes = cell_cycle_genes[:43]\n",
    "g2m_genes = cell_cycle_genes[43:]\n",
    "cell_cycle_genes = [x for x in cell_cycle_genes if x in adata.var_names]"
   ]
  },
  {
   "cell_type": "code",
   "execution_count": 12,
   "id": "98b8463e-5379-4b45-aed4-0de7dce212d7",
   "metadata": {
    "tags": []
   },
   "outputs": [
    {
     "name": "stdout",
     "output_type": "stream",
     "text": [
      "WARNING: genes are not in var_names and ignored: ['MLF1IP', 'EXO1', 'E2F8']\n",
      "WARNING: genes are not in var_names and ignored: ['FAM64A', 'HJURP', 'HN1', 'CDCA2', 'CDCA8', 'KIF23', 'HMMR', 'PSRC1', 'NEK2']\n"
     ]
    }
   ],
   "source": [
    "sc.tl.score_genes_cell_cycle(adata, s_genes=s_genes, g2m_genes=g2m_genes)"
   ]
  },
  {
   "cell_type": "code",
   "execution_count": 13,
   "id": "cce90db6-fa8c-4989-b7e2-a7b9c31d3dc4",
   "metadata": {
    "tags": []
   },
   "outputs": [
    {
     "name": "stderr",
     "output_type": "stream",
     "text": [
      "/Users/kschmid/miniconda3/envs/py3_10/lib/python3.10/site-packages/scanpy/plotting/_tools/scatterplots.py:392: UserWarning: No data for colormapping provided via 'c'. Parameters 'cmap' will be ignored\n",
      "  cax = scatter(\n"
     ]
    },
    {
     "data": {
      "image/png": "[encoded data removed]",
      "text/plain": [
       "<Figure size 640x480 with 1 Axes>"
      ]
     },
     "metadata": {},
     "output_type": "display_data"
    }
   ],
   "source": [
    "adata_cc_genes = adata[:, cell_cycle_genes]\n",
    "sc.tl.pca(adata_cc_genes)\n",
    "sc.pl.pca_scatter(adata_cc_genes, color='phase')"
   ]
  },
  {
   "cell_type": "code",
   "execution_count": 16,
   "id": "97b691ab-2490-461e-bc1d-e8eac221c9f4",
   "metadata": {
    "tags": []
   },
   "outputs": [
    {
     "data": {
      "text/plain": [
       "G1     127\n",
       "S       68\n",
       "G2M     67\n",
       "Name: phase, dtype: int64"
      ]
     },
     "execution_count": 16,
     "metadata": {},
     "output_type": "execute_result"
    }
   ],
   "source": [
    "adata.obs.phase.value_counts()"
   ]
  },
  {
   "cell_type": "code",
   "execution_count": 18,
   "id": "c3aa8a45-bc6a-43f1-a933-e71005a09fc6",
   "metadata": {
    "tags": []
   },
   "outputs": [],
   "source": [
    "clones.index=clones.rna_index"
   ]
  },
  {
   "cell_type": "code",
   "execution_count": 19,
   "id": "584294dc-a657-42f8-86f1-5c4f9e806a1c",
   "metadata": {
    "tags": []
   },
   "outputs": [
    {
     "data": {
      "text/html": [
       "<div>\n",
       "<style scoped>\n",
       "    .dataframe tbody tr th:only-of-type {\n",
       "        vertical-align: middle;\n",
       "    }\n",
       "\n",
       "    .dataframe tbody tr th {\n",
       "        vertical-align: top;\n",
       "    }\n",
       "\n",
       "    .dataframe thead th {\n",
       "        text-align: right;\n",
       "    }\n",
       "</style>\n",
       "<table border=\"1\" class=\"dataframe\">\n",
       "  <thead>\n",
       "    <tr style=\"text-align: right;\">\n",
       "      <th></th>\n",
       "      <th>dna_library_id</th>\n",
       "      <th>clone</th>\n",
       "      <th>dna_reads</th>\n",
       "      <th>rna_counts</th>\n",
       "      <th>rna_phase</th>\n",
       "      <th>timepoint</th>\n",
       "      <th>rna_index</th>\n",
       "    </tr>\n",
       "    <tr>\n",
       "      <th>rna_index</th>\n",
       "      <th></th>\n",
       "      <th></th>\n",
       "      <th></th>\n",
       "      <th></th>\n",
       "      <th></th>\n",
       "      <th></th>\n",
       "      <th></th>\n",
       "    </tr>\n",
       "  </thead>\n",
       "  <tbody>\n",
       "    <tr>\n",
       "      <th>VZA01001R-A01</th>\n",
       "      <td>VZA01001D_A01</td>\n",
       "      <td>3_1</td>\n",
       "      <td>1185959</td>\n",
       "      <td>192050</td>\n",
       "      <td>G1</td>\n",
       "      <td>diagnosis</td>\n",
       "      <td>VZA01001R-A01</td>\n",
       "    </tr>\n",
       "    <tr>\n",
       "      <th>VZA01001R-A02</th>\n",
       "      <td>VZA01001D_A02</td>\n",
       "      <td>3_1</td>\n",
       "      <td>875737</td>\n",
       "      <td>137332</td>\n",
       "      <td>G1</td>\n",
       "      <td>diagnosis</td>\n",
       "      <td>VZA01001R-A02</td>\n",
       "    </tr>\n",
       "    <tr>\n",
       "      <th>VZA01001R-A03</th>\n",
       "      <td>VZA01001D_A03</td>\n",
       "      <td>3_1</td>\n",
       "      <td>864706</td>\n",
       "      <td>177335</td>\n",
       "      <td>G1</td>\n",
       "      <td>diagnosis</td>\n",
       "      <td>VZA01001R-A03</td>\n",
       "    </tr>\n",
       "    <tr>\n",
       "      <th>VZA01001R-A04</th>\n",
       "      <td>VZA01001D_A04</td>\n",
       "      <td>3_1</td>\n",
       "      <td>828150</td>\n",
       "      <td>306029</td>\n",
       "      <td>G1</td>\n",
       "      <td>diagnosis</td>\n",
       "      <td>VZA01001R-A04</td>\n",
       "    </tr>\n",
       "    <tr>\n",
       "      <th>VZA01001R-A05</th>\n",
       "      <td>VZA01001D_A05</td>\n",
       "      <td>NaN</td>\n",
       "      <td>20650</td>\n",
       "      <td>270</td>\n",
       "      <td>NaN</td>\n",
       "      <td>diagnosis</td>\n",
       "      <td>VZA01001R-A05</td>\n",
       "    </tr>\n",
       "  </tbody>\n",
       "</table>\n",
       "</div>"
      ],
      "text/plain": [
       "              dna_library_id clone  dna_reads  rna_counts rna_phase  \\\n",
       "rna_index                                                             \n",
       "VZA01001R-A01  VZA01001D_A01   3_1    1185959      192050        G1   \n",
       "VZA01001R-A02  VZA01001D_A02   3_1     875737      137332        G1   \n",
       "VZA01001R-A03  VZA01001D_A03   3_1     864706      177335        G1   \n",
       "VZA01001R-A04  VZA01001D_A04   3_1     828150      306029        G1   \n",
       "VZA01001R-A05  VZA01001D_A05   NaN      20650         270       NaN   \n",
       "\n",
       "               timepoint      rna_index  \n",
       "rna_index                                \n",
       "VZA01001R-A01  diagnosis  VZA01001R-A01  \n",
       "VZA01001R-A02  diagnosis  VZA01001R-A02  \n",
       "VZA01001R-A03  diagnosis  VZA01001R-A03  \n",
       "VZA01001R-A04  diagnosis  VZA01001R-A04  \n",
       "VZA01001R-A05  diagnosis  VZA01001R-A05  "
      ]
     },
     "execution_count": 19,
     "metadata": {},
     "output_type": "execute_result"
    }
   ],
   "source": [
    "clones.head()"
   ]
  },
  {
   "cell_type": "code",
   "execution_count": 22,
   "id": "173fe26c-2b91-4e7a-83a5-a6e51fd88ff6",
   "metadata": {
    "tags": []
   },
   "outputs": [],
   "source": [
    "adata.obs[\"clone\"] = clones.clone[adata.obs.index]"
   ]
  },
  {
   "cell_type": "code",
   "execution_count": 24,
   "id": "9549e387-b174-44aa-b363-107dfc251cd4",
   "metadata": {
    "tags": []
   },
   "outputs": [
    {
     "data": {
      "text/html": [
       "<div>\n",
       "<style scoped>\n",
       "    .dataframe tbody tr th:only-of-type {\n",
       "        vertical-align: middle;\n",
       "    }\n",
       "\n",
       "    .dataframe tbody tr th {\n",
       "        vertical-align: top;\n",
       "    }\n",
       "\n",
       "    .dataframe thead th {\n",
       "        text-align: right;\n",
       "    }\n",
       "</style>\n",
       "<table border=\"1\" class=\"dataframe\">\n",
       "  <thead>\n",
       "    <tr style=\"text-align: right;\">\n",
       "      <th>clone</th>\n",
       "      <th>1_1</th>\n",
       "      <th>2_3</th>\n",
       "      <th>3_1</th>\n",
       "    </tr>\n",
       "    <tr>\n",
       "      <th>phase</th>\n",
       "      <th></th>\n",
       "      <th></th>\n",
       "      <th></th>\n",
       "    </tr>\n",
       "  </thead>\n",
       "  <tbody>\n",
       "    <tr>\n",
       "      <th>G1</th>\n",
       "      <td>48</td>\n",
       "      <td>8</td>\n",
       "      <td>71</td>\n",
       "    </tr>\n",
       "    <tr>\n",
       "      <th>G2M</th>\n",
       "      <td>18</td>\n",
       "      <td>8</td>\n",
       "      <td>41</td>\n",
       "    </tr>\n",
       "    <tr>\n",
       "      <th>S</th>\n",
       "      <td>19</td>\n",
       "      <td>7</td>\n",
       "      <td>42</td>\n",
       "    </tr>\n",
       "  </tbody>\n",
       "</table>\n",
       "</div>"
      ],
      "text/plain": [
       "clone  1_1  2_3  3_1\n",
       "phase               \n",
       "G1      48    8   71\n",
       "G2M     18    8   41\n",
       "S       19    7   42"
      ]
     },
     "execution_count": 24,
     "metadata": {},
     "output_type": "execute_result"
    }
   ],
   "source": [
    "pd.crosstab(adata.obs['phase'], adata.obs['clone'])"
   ]
  }
 ],
 "metadata": {
  "kernelspec": {
   "display_name": "Python 3 (ipykernel)",
   "language": "python",
   "name": "python3"
  },
  "language_info": {
   "codemirror_mode": {
    "name": "ipython",
    "version": 3
   },
   "file_extension": ".py",
   "mimetype": "text/x-python",
   "name": "python",
   "nbconvert_exporter": "python",
   "pygments_lexer": "ipython3",
   "version": "3.10.10"
  }
 },
 "nbformat": 4,
 "nbformat_minor": 5
}
